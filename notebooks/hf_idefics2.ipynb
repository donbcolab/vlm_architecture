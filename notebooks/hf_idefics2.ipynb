{
  "nbformat": 4,
  "nbformat_minor": 0,
  "metadata": {
    "colab": {
      "provenance": [],
      "machine_shape": "hm",
      "gpuType": "L4",
      "authorship_tag": "ABX9TyPNW5FdLS1tn+g/9g5v3pNP",
      "include_colab_link": true
    },
    "kernelspec": {
      "name": "python3",
      "display_name": "Python 3"
    },
    "language_info": {
      "name": "python"
    },
    "accelerator": "GPU"
  },
  "cells": [
    {
      "cell_type": "markdown",
      "metadata": {
        "id": "view-in-github",
        "colab_type": "text"
      },
      "source": [
        "<a href=\"https://colab.research.google.com/github/donbcolab/vlm_architecture/blob/main/notebooks/hf_idefics2.ipynb\" target=\"_parent\"><img src=\"https://colab.research.google.com/assets/colab-badge.svg\" alt=\"Open In Colab\"/></a>"
      ]
    },
    {
      "cell_type": "markdown",
      "source": [
        "# Instructions for Idefics2 Vision"
      ],
      "metadata": {
        "id": "FBQqObAuV-vx"
      }
    },
    {
      "cell_type": "markdown",
      "source": [
        "## Install Python Dependencies"
      ],
      "metadata": {
        "id": "s16yW6o0l87U"
      }
    },
    {
      "cell_type": "code",
      "source": [
        "!pip install -qU torch transformers timm datasets bitsandbytes accelerate"
      ],
      "metadata": {
        "id": "CaM6YGddUx_X"
      },
      "execution_count": null,
      "outputs": []
    },
    {
      "cell_type": "markdown",
      "source": [
        "## Import necessary libraries"
      ],
      "metadata": {
        "id": "1t3ofIR2mHhX"
      }
    },
    {
      "cell_type": "code",
      "execution_count": null,
      "metadata": {
        "id": "PfJNXElhUaAx"
      },
      "outputs": [],
      "source": [
        "from PIL import Image\n",
        "import requests\n",
        "from transformers import AutoModelForVision2Seq\n",
        "from transformers import AutoProcessor\n",
        "import torch"
      ]
    },
    {
      "cell_type": "markdown",
      "source": [
        "## Hugging Face model configuration\n",
        "- Load the Phi-3 Vision model and processor from Hugging Face"
      ],
      "metadata": {
        "id": "9OlACINKmNqy"
      }
    },
    {
      "cell_type": "code",
      "source": [
        "# Hugging Face model configuration\n",
        "\n",
        "model_id = \"HuggingFaceM4/idefics2-8b-base\"\n",
        "\n",
        "device = \"cuda\" if torch.cuda.is_available() else \"cpu\"\n",
        "\n",
        "model = AutoModelForVision2Seq.from_pretrained(model_id, torch_dtype=torch.bfloat16).to(device)\n",
        "processor = AutoProcessor.from_pretrained(model_id)"
      ],
      "metadata": {
        "id": "uv-ADG6eaLLn"
      },
      "execution_count": null,
      "outputs": []
    },
    {
      "cell_type": "markdown",
      "source": [
        "## Visualize the Model Architecture\n",
        "\n",
        "- Print the model architecture to understand its structure"
      ],
      "metadata": {
        "id": "NLR8po3xmjPk"
      }
    },
    {
      "cell_type": "code",
      "source": [
        "# Visualize the Model Architecture\n",
        "\n",
        "print(model)"
      ],
      "metadata": {
        "id": "eb8Y8bI6WjTk"
      },
      "execution_count": null,
      "outputs": []
    },
    {
      "cell_type": "markdown",
      "source": [
        "## Setup the input for the Vision model"
      ],
      "metadata": {
        "id": "xlLfWy5qmuU-"
      }
    },
    {
      "cell_type": "markdown",
      "source": [
        "## Setup and Run Vision model inference\n"
      ],
      "metadata": {
        "id": "YrfgSBNvm-cl"
      }
    },
    {
      "cell_type": "markdown",
      "source": [
        "## Discover the Model's Insights!"
      ],
      "metadata": {
        "id": "4vHLaF_SnV3D"
      }
    }
  ]
}